{
 "cells": [
  {
   "cell_type": "markdown",
   "metadata": {},
   "source": [
    "# Kasen Kilonova Seed"
   ]
  },
  {
   "cell_type": "code",
   "execution_count": null,
   "metadata": {
    "collapsed": true
   },
   "outputs": [],
   "source": [
    "import numpy as np\n",
    "# Code to inject a kilonova for the Kepler filter at different redshifts\n",
    "def K2Kilonova(model,mag, Time, Start):\n",
    "    Kepfilt = np.loadtxt('/Users/ryanr/Documents/PhD/coding/Filters/Kepler/Kepler.dat')\n",
    "    path = '/Users/ryanr/Documents/PhD/coding/Kasen models/OrderedBNS/'\n",
    "    files = ['t000A3.npy',\n",
    "       't030A3p15.npy',\n",
    "       't100A3p15.npy',\n",
    "       't300A3p15.npy',\n",
    "       'tinfA3p15.npy',\n",
    "       't100A3p15_SD1e-2.npy',\n",
    "       't100A3p15_SD1e-3.npy',\n",
    "       't100A3p15_SD1e-4.npy',\n",
    "       't100A3p15_SD1e-5.npy',\n",
    "       'a80_leak_HR.npy']\n",
    "    data = np.load(path+files[model]).item()\n",
    "    time = data['time']\n",
    "    # Make a 30 min interpolated model to fit more closely with Kepler frames.\n",
    "    keptime = np.arange(time[0],time[-1],30*60)\n",
    "    Ikep = np.interp(data['wavelength'], Kepfilt[:,0], Kepfilt[:,1])\n",
    "    lum = data['luminosity']*Ikep\n",
    "    Lum = np.zeros((lum.shape[0],lum.shape[1],1))\n",
    "    Mag = np.zeros((lum.shape[0],lum.shape[1],1))\n",
    "    Kc = np.zeros((lum.shape[0],lum.shape[1],1))\n",
    "    kc = np.zeros((lum.shape[0],lum.shape[1],1))\n",
    "    Kepcounts = np.zeros((lum.shape[0],keptime.shape[0]))\n",
    "    KepMag = np.zeros((lum.shape[0],keptime.shape[0]))\n",
    "    \n",
    "    d = 10*3.1e18# 10 pc distance in pc to cm\n",
    "    for i in range(lum.shape[0]):\n",
    "        for j in range(lum.shape[1]):\n",
    "            ind = ~np.isnan(lum[i,j,:])\n",
    "            Lum[i,j] = np.trapz(lum[i,j,ind],data['wavelength'][ind])/3528.4*(5781.3**2/(3*10**18))/(4*np.pi*d**2)\n",
    "            Mag[i,j] = -5/2*np.log10(Lum[i,j]) - 48.6\n",
    "            \n",
    "            # convert the counts from 10pc to those for a magnitude given to the function\n",
    "            \n",
    "        KepMag[i,:] = np.interp(keptime,time,Mag[i,:,0])\n",
    "        \n",
    "        Max = np.nanmin(KepMag[i,:])\n",
    "        D = 10**((mag-Max+5)/5)\n",
    "        Kepcounts[i,:] = 10**(-2/5*((KepMag[i,:] + 5*np.log10(D)-5)-25.47))\n",
    "    Kepcounts = Kepcounts[0,keptime > 0]\n",
    "    NS = np.zeros(len(Time))\n",
    "    \n",
    "    if len(Kepcounts) > len(Time[Start:]):\n",
    "        NS[Start:] = Kepcounts[:(len(NS)-Start)]\n",
    "    else:\n",
    "        NS[Start:Start+len(Kepcounts)] = Kepcounts\n",
    "    return NS"
   ]
  }
 ],
 "metadata": {
  "anaconda-cloud": {},
  "kernelspec": {
   "display_name": "Python [Root]",
   "language": "python",
   "name": "Python [Root]"
  },
  "language_info": {
   "codemirror_mode": {
    "name": "ipython",
    "version": 3
   },
   "file_extension": ".py",
   "mimetype": "text/x-python",
   "name": "python",
   "nbconvert_exporter": "python",
   "pygments_lexer": "ipython3",
   "version": "3.5.1"
  }
 },
 "nbformat": 4,
 "nbformat_minor": 2
}
