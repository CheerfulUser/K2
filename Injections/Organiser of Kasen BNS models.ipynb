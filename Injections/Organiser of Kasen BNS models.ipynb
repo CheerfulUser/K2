{
 "cells": [
  {
   "cell_type": "markdown",
   "metadata": {},
   "source": [
    "# Organise and write Kasen BNS models to structured dictionary"
   ]
  },
  {
   "cell_type": "markdown",
   "metadata": {},
   "source": [
    "The dictionary has 4 entries, angle, wavelength, time and luminosity, which contains the spectra at each timestep for each angle."
   ]
  },
  {
   "cell_type": "code",
   "execution_count": null,
   "metadata": {
    "collapsed": true
   },
   "outputs": [],
   "source": [
    "import numpy as np\n",
    "save = '/Users/ryanr/Documents/PhD/coding/Kasen models/OrderedBNS/'\n",
    "lum = []\n",
    "\n",
    "for k in range(len(files)):\n",
    "    lum = []\n",
    "    filename='/Users/ryanr/Documents/PhD/coding/Kasen models/spec_files/' + files[k]\n",
    "    data=np.loadtxt(filename,skiprows=1)\n",
    "    # time [s], lam [A], mu [cos(viewing angle)], count [photon/bin], error^2\n",
    "\n",
    "    # Isolating data in U-band\n",
    "    lam=data[:,1]\n",
    "    kep=[]\n",
    "    for i in range(len(lam)):\n",
    "        #if lam[i]<=Kepfilt[0,0] and lam[i]>=Kepfilt[0,-1]:\n",
    "        kep.append(data[i,:])\n",
    "\n",
    "\n",
    "    kep=np.array(kep)      \n",
    "    \n",
    "\n",
    "    # Need to group the viewing angles  \n",
    "    mu=kep[:,2]\n",
    "    ang=-0.95\n",
    "    kepang=[]\n",
    "    for i in range(19):\n",
    "        index=np.where(mu==ang)\n",
    "        kepang.append(kep[index,:])\n",
    "        index=[]\n",
    "        ang=round(ang+0.1,2)\n",
    "    kepang=np.array(kepang)\n",
    "    # dimentons angle(nothing(time, wavelength, angle, flux, error))\n",
    "    \n",
    "    # finding the gap between each timestep\n",
    "    seen = set()\n",
    "    for i in range(len(kepang[0,0,:,0])):\n",
    "        if kepang[0,0,i,0] not in seen:\n",
    "            seen.add(kepang[0,0,i,0])\n",
    "    time = sorted(seen)\n",
    "    \n",
    "    temp = []\n",
    "    for i in range(len(kepang)):\n",
    "        for j in range(len(time)):\n",
    "            index = kepang[0,0,:,0] == time[j]\n",
    "            temp.append(kepang[i,0,index,3])\n",
    "            row=[]\n",
    "        temp=np.array(temp)\n",
    "        lum.append(temp)\n",
    "        temp=[]\n",
    "\n",
    "    lum=np.array(lum)\n",
    "    lum[:,:,0] = 0\n",
    "    Wavelength = kepang[0,0,kepang[0,0,:,0] == time[0],1]\n",
    "    \n",
    "    Data = {}\n",
    "    Data['luminosity'] = lum\n",
    "    Data['time'] = np.array(time)\n",
    "    Data['wavelength'] = Wavelength\n",
    "    Data['angle'] = mu\n",
    "    np.save(save+files[k].split('.')[0]+'.npy',Data)"
   ]
  }
 ],
 "metadata": {
  "kernelspec": {
   "display_name": "Python [Root]",
   "language": "python",
   "name": "Python [Root]"
  },
  "language_info": {
   "codemirror_mode": {
    "name": "ipython",
    "version": 3
   },
   "file_extension": ".py",
   "mimetype": "text/x-python",
   "name": "python",
   "nbconvert_exporter": "python",
   "pygments_lexer": "ipython3",
   "version": "3.5.1"
  }
 },
 "nbformat": 4,
 "nbformat_minor": 2
}
