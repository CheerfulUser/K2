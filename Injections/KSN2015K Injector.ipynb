{
 "cells": [
  {
   "cell_type": "markdown",
   "metadata": {},
   "source": [
    "# KSN 2015K injector"
   ]
  },
  {
   "cell_type": "code",
   "execution_count": 6,
   "metadata": {
    "collapsed": true
   },
   "outputs": [],
   "source": [
    "def KSN2015K(Magnitude,Start,Time):\n",
    "    K = np.zeros(len(Time))\n",
    "    Raw = np.loadtxt('/Users/ryanr/Documents/PhD/coding/Kepler/pipelines/Injections/SN/KSN2015K_v4_ap5.txt')\n",
    "    Eventstart = np.where(Raw[:,0]==2400.008166)[0][0]\n",
    "    Eventend = np.where(Raw[:,0]==2430.985510)[0][0]\n",
    "    #print(Eventstart)\n",
    "    #print(Eventend)\n",
    "    # Columns of Raw are, Time, Counts, Background subtracted counts\n",
    "    Counts = Raw[:,2] - Raw[1,2]\n",
    "    #print(Raw[1,2])\n",
    "    #print(Counts)\n",
    "    m1 = -5/2*np.log10(Counts)+25.47\n",
    "    #print(m1)\n",
    "    LCmax = np.nanmin(m1)\n",
    "    Counts2 = Counts*10**(2/5*(LCmax - Magnitude))\n",
    "    Counts2 = Counts2[Eventstart:Eventend]\n",
    "    if len(Counts2) > len(K[Start:]):\n",
    "        K[Start:] += Counts2[:(len(K)-Start)]\n",
    "    elif len(K[Start:]) > len(Counts2):\n",
    "        K[Start:Start+len(Counts2)] += Counts2\n",
    "    else:\n",
    "        K[Start:] += Counts2\n",
    "    \n",
    "    return K "
   ]
  }
 ],
 "metadata": {
  "kernelspec": {
   "display_name": "Python [Root]",
   "language": "python",
   "name": "Python [Root]"
  },
  "language_info": {
   "codemirror_mode": {
    "name": "ipython",
    "version": 3
   },
   "file_extension": ".py",
   "mimetype": "text/x-python",
   "name": "python",
   "nbconvert_exporter": "python",
   "pygments_lexer": "ipython3",
   "version": "3.5.1"
  }
 },
 "nbformat": 4,
 "nbformat_minor": 2
}
