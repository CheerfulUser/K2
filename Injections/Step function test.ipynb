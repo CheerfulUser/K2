{
 "cells": [
  {
   "cell_type": "markdown",
   "metadata": {},
   "source": [
    "# Step function for testing duration limit"
   ]
  },
  {
   "cell_type": "code",
   "execution_count": null,
   "metadata": {
    "collapsed": true
   },
   "outputs": [],
   "source": [
    "def K2Steptest(Mag,Duration,Time,Start):\n",
    "    Counts = 10**(-2/5*(Mag-25.47))\n",
    "    Step = np.zeros(len(Time))\n",
    "    if Start+Duration > len(Time):\n",
    "        Step[Start:] += Counts\n",
    "    else:\n",
    "        Step[Start:Start+Duration] += Counts\n",
    "    return Step\n",
    "    "
   ]
  }
 ],
 "metadata": {
  "anaconda-cloud": {},
  "kernelspec": {
   "display_name": "Python [Root]",
   "language": "python",
   "name": "Python [Root]"
  },
  "language_info": {
   "codemirror_mode": {
    "name": "ipython",
    "version": 3
   },
   "file_extension": ".py",
   "mimetype": "text/x-python",
   "name": "python",
   "nbconvert_exporter": "python",
   "pygments_lexer": "ipython3",
   "version": "3.5.1"
  }
 },
 "nbformat": 4,
 "nbformat_minor": 2
}
