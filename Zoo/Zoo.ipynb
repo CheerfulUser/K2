{
 "cells": [
  {
   "cell_type": "code",
   "execution_count": 1,
   "metadata": {},
   "outputs": [],
   "source": [
    "#load in panoptes \n",
    "from panoptes_client import Panoptes, Project, SubjectSet, Subject\n",
    "from glob import glob"
   ]
  },
  {
   "cell_type": "code",
   "execution_count": 2,
   "metadata": {},
   "outputs": [
    {
     "data": {
      "text/plain": [
       "<panoptes_client.panoptes.Panoptes at 0x10a3e47b8>"
      ]
     },
     "execution_count": 2,
     "metadata": {},
     "output_type": "execute_result"
    }
   ],
   "source": [
    "# Connect to my account\n",
    "Panoptes.connect(username='cheerfuluser',password='dragon1243')"
   ]
  },
  {
   "cell_type": "code",
   "execution_count": 3,
   "metadata": {},
   "outputs": [],
   "source": [
    "# Link the K2BS project\n",
    "project = Project.find(slug='cheerfuluser/k2-background-survey')\n"
   ]
  },
  {
   "cell_type": "code",
   "execution_count": 4,
   "metadata": {},
   "outputs": [
    {
     "name": "stdout",
     "output_type": "stream",
     "text": [
      "K2:BS\n"
     ]
    }
   ],
   "source": [
    "# List the project workflows\n",
    "for workflow in project.links.workflows:\n",
    "    print(workflow.display_name)"
   ]
  },
  {
   "cell_type": "code",
   "execution_count": 5,
   "metadata": {},
   "outputs": [
    {
     "data": {
      "text/plain": [
       "{'classification': panoptes_client.classification.Classification,\n",
       " 'owner': panoptes_client.user.User,\n",
       " 'project': panoptes_client.project.Project,\n",
       " 'project_preferences': panoptes_client.project_preferences.ProjectPreferences,\n",
       " 'project_roles': panoptes_client.project_role.ProjectRole,\n",
       " 'projects': panoptes_client.project.Project,\n",
       " 'set_member_subject': panoptes_client.set_member_subject.SetMemberSubject,\n",
       " 'set_member_subjects': panoptes_client.set_member_subject.SetMemberSubject,\n",
       " 'subject': panoptes_client.subject.Subject,\n",
       " 'subject_set': panoptes_client.subject_set.SubjectSet,\n",
       " 'subject_sets': panoptes_client.subject_set.SubjectSet,\n",
       " 'subjects': panoptes_client.subject.Subject,\n",
       " 'users': panoptes_client.user.User,\n",
       " 'workflows': panoptes_client.workflow.Workflow}"
      ]
     },
     "execution_count": 5,
     "metadata": {},
     "output_type": "execute_result"
    }
   ],
   "source": [
    "project.links.types"
   ]
  },
  {
   "cell_type": "code",
   "execution_count": 20,
   "metadata": {},
   "outputs": [
    {
     "data": {
      "text/plain": [
       "{'links': {'subject_sets.project': {'href': '/projects/{subject_sets.project}',\n",
       "   'type': 'projects'},\n",
       "  'subject_sets.workflows': {'href': '/workflows?subject_set_id={subject_sets.id}',\n",
       "   'type': 'workflows'}},\n",
       " 'meta': {'subject_sets': {'count': 1,\n",
       "   'first_href': '/subject_sets',\n",
       "   'include': [],\n",
       "   'last_href': '/subject_sets',\n",
       "   'next_href': None,\n",
       "   'next_page': None,\n",
       "   'page': 1,\n",
       "   'page_count': 1,\n",
       "   'page_size': 20,\n",
       "   'previous_href': None,\n",
       "   'previous_page': None}},\n",
       " 'subject_sets': [{'created_at': '2018-09-14T04:18:50.559Z',\n",
       "   'display_name': 'test2',\n",
       "   'href': '/subject_sets/56624',\n",
       "   'id': '56624',\n",
       "   'links': {'project': '7245'},\n",
       "   'metadata': {},\n",
       "   'set_member_subjects_count': 0,\n",
       "   'updated_at': '2018-09-14T04:18:50.559Z'}]}"
      ]
     },
     "execution_count": 20,
     "metadata": {},
     "output_type": "execute_result"
    }
   ],
   "source": []
  },
  {
   "cell_type": "code",
   "execution_count": 7,
   "metadata": {},
   "outputs": [
    {
     "data": {
      "text/plain": [
       "<SubjectSet 56623>"
      ]
     },
     "execution_count": 7,
     "metadata": {},
     "output_type": "execute_result"
    }
   ],
   "source": [
    "subject_set"
   ]
  },
  {
   "cell_type": "code",
   "execution_count": 10,
   "metadata": {},
   "outputs": [],
   "source": [
    "subject_set = SubjectSet()\n",
    "subject_set.links.project = project\n",
    "subject_set.display_name = 'test2'\n",
    "subject_set.save()\n",
    "\n",
    "data_directory = '/Users/ryanr/Desktop/c111/Figures/Long/Bright/Unknown/'\n",
    "files = glob(data_directory + '*.mp4')"
   ]
  },
  {
   "cell_type": "code",
   "execution_count": 17,
   "metadata": {},
   "outputs": [
    {
     "name": "stdout",
     "output_type": "stream",
     "text": [
      "/Users/ryanr/Desktop/c111/Figures/Long/Bright/Unknown/Zoo-ktwo203811420_0.mp4\n",
      "/Users/ryanr/Desktop/c111/Figures/Long/Bright/Unknown/Zoo-ktwo221733678_0.mp4\n",
      "/Users/ryanr/Desktop/c111/Figures/Long/Bright/Unknown/Zoo-ktwo223430002_0.mp4\n",
      "/Users/ryanr/Desktop/c111/Figures/Long/Bright/Unknown/Zoo-ktwo224935244_0.mp4\n",
      "/Users/ryanr/Desktop/c111/Figures/Long/Bright/Unknown/Zoo-ktwo230533709_0.mp4\n"
     ]
    }
   ],
   "source": [
    "new_subjects = []\n",
    "for file in files:\n",
    "    subject = Subject()\n",
    "    \n",
    "    subject.links.project = project\n",
    "    subject.add_location(file)\n",
    "\n",
    "    subject.save()\n",
    "    new_subjects.append(subject)\n",
    "\n",
    "subject_set.add(new_subjects)\n",
    "workflow = project.links.workflows[0]\n",
    "workflow.add_subject_sets(subject_set)"
   ]
  },
  {
   "cell_type": "code",
   "execution_count": 21,
   "metadata": {},
   "outputs": [],
   "source": []
  },
  {
   "cell_type": "code",
   "execution_count": 22,
   "metadata": {},
   "outputs": [],
   "source": []
  },
  {
   "cell_type": "code",
   "execution_count": 22,
   "metadata": {},
   "outputs": [],
   "source": [
    "subject_set = SubjectSet.find(51764)"
   ]
  },
  {
   "cell_type": "code",
   "execution_count": 23,
   "metadata": {},
   "outputs": [],
   "source": [
    "workflow = project.links.workflows[0]\n",
    "workflow.add_subject_sets(subject_set)"
   ]
  },
  {
   "cell_type": "code",
   "execution_count": null,
   "metadata": {},
   "outputs": [],
   "source": [
    "subject = Subject()\n",
    "\n",
    "subject.links.project = project\n",
    "subject.add_location('/Users/ryanr/Desktop/SM_MC.jpg')\n",
    "\n",
    "subject.save()\n",
    "new_subjects.append(subject)"
   ]
  },
  {
   "cell_type": "code",
   "execution_count": null,
   "metadata": {},
   "outputs": [],
   "source": [
    "workflow = project.links.workflows[0]\n",
    "workflow.add_subject_sets(subject_set)\n",
    "\n"
   ]
  },
  {
   "cell_type": "code",
   "execution_count": null,
   "metadata": {},
   "outputs": [],
   "source": []
  },
  {
   "cell_type": "code",
   "execution_count": null,
   "metadata": {},
   "outputs": [],
   "source": []
  },
  {
   "cell_type": "code",
   "execution_count": null,
   "metadata": {},
   "outputs": [],
   "source": []
  },
  {
   "cell_type": "code",
   "execution_count": null,
   "metadata": {},
   "outputs": [],
   "source": [
    "for subject in subject_set.subjects:\n",
    "    print(subject.id)"
   ]
  },
  {
   "cell_type": "code",
   "execution_count": 8,
   "metadata": {},
   "outputs": [],
   "source": [
    "import panoptes_client as pan"
   ]
  },
  {
   "cell_type": "code",
   "execution_count": null,
   "metadata": {},
   "outputs": [],
   "source": [
    "pan.Panoptes."
   ]
  }
 ],
 "metadata": {
  "anaconda-cloud": {},
  "kernelspec": {
   "display_name": "Python [Root]",
   "language": "python",
   "name": "Python [Root]"
  },
  "language_info": {
   "codemirror_mode": {
    "name": "ipython",
    "version": 3
   },
   "file_extension": ".py",
   "mimetype": "text/x-python",
   "name": "python",
   "nbconvert_exporter": "python",
   "pygments_lexer": "ipython3",
   "version": "3.5.5"
  }
 },
 "nbformat": 4,
 "nbformat_minor": 2
}
