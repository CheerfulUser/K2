{
 "cells": [
  {
   "cell_type": "markdown",
   "metadata": {},
   "source": [
    "<!--BOOK_INFORMATION-->\n",
    "<img align=\"left\" style=\"padding-right:10px;\" src=\"figures/k2_pix_small.png\">\n",
    "*This notebook contains an excerpt instructional material from [gully](https://twitter.com/gully_) and the [K2 Guest Observer Office](https://keplerscience.arc.nasa.gov/); the content is available [on GitHub](https://github.com/gully/goldenrod).*\n"
   ]
  },
  {
   "cell_type": "markdown",
   "metadata": {},
   "source": [
    "<!--NAVIGATION-->\n",
    "< [KEGS metadata and sample overview](01.01-KEGS-sample-overview.ipynb) | [Contents](Index.ipynb) | [Fetch all the KEGS data with `wget`](01.03-wget-all-KEGS-data.ipynb) >"
   ]
  },
  {
   "cell_type": "markdown",
   "metadata": {},
   "source": [
    "# Custom tile target apertures on galaxies\n"
   ]
  },
  {
   "cell_type": "markdown",
   "metadata": {},
   "source": [
    "The Kepler spacecraft is over 1 AU away from the Earth, and relies on low-bandwidth communication to telemeter data back to Earth.  Accordingly, only a $\\sim5$% portion of the pixels can be telemetered, so we only download small postage stamp windows rather than the full CCD mosaic.  The sizes of these *target apertures* are assigned programmatically based on software designed for the original Kepler prime mission and now retrofitted for K2.  The scientifically needed target aperture sizes sometimes exceed the programmatically assigned target aperture size.  In these cases, manual overrides called \"tiles\" are placed on the desired target.  These tiles sometimes violate the simplistic assumptions of the Kepler pipeline, complicating the extraction of lightcurves.  See the [K2 Handbook](http://archive.stsci.edu/k2/manuals/k2_handbook.pdf) Section 2.2 for more details on K2 target management.\n",
    "\n",
    "Because of their added complexity, it is worth looking into how many of the KEGS targets were assigned custom apertures, these so-called \"tiles\".  "
   ]
  },
  {
   "cell_type": "code",
   "execution_count": 1,
   "metadata": {
    "collapsed": true
   },
   "outputs": [],
   "source": [
    "import pandas as pd\n",
    "import numpy as np"
   ]
  },
  {
   "cell_type": "markdown",
   "metadata": {},
   "source": [
    "Change the path below to wherever you have the [K2-metadata repository](https://github.com/gully/k2-metadata)"
   ]
  },
  {
   "cell_type": "code",
   "execution_count": 2,
   "metadata": {
    "collapsed": true
   },
   "outputs": [],
   "source": [
    "K2_GO_metadata_path = '../../K2-metadata/metadata/tidy/GO_proposal_metadata.csv'"
   ]
  },
  {
   "cell_type": "code",
   "execution_count": 3,
   "metadata": {
    "collapsed": false
   },
   "outputs": [
    {
     "data": {
      "text/plain": [
       "(426130, 3)"
      ]
     },
     "execution_count": 3,
     "metadata": {},
     "output_type": "execute_result"
    }
   ],
   "source": [
    "df_GO = pd.read_csv(K2_GO_metadata_path, dtype={'campaign':str}, usecols=['EPIC ID','Investigation IDs', 'campaign'])\n",
    "df_GO.shape"
   ]
  },
  {
   "cell_type": "markdown",
   "metadata": {},
   "source": [
    "We'll find all the KEGS targets in the same way as we did in a previous notebook."
   ]
  },
  {
   "cell_type": "code",
   "execution_count": 4,
   "metadata": {
    "collapsed": false
   },
   "outputs": [
    {
     "data": {
      "text/html": [
       "<div>\n",
       "<style>\n",
       "    .dataframe thead tr:only-child th {\n",
       "        text-align: right;\n",
       "    }\n",
       "\n",
       "    .dataframe thead th {\n",
       "        text-align: left;\n",
       "    }\n",
       "\n",
       "    .dataframe tbody tr th {\n",
       "        vertical-align: top;\n",
       "    }\n",
       "</style>\n",
       "<table border=\"1\" class=\"dataframe\">\n",
       "  <thead>\n",
       "    <tr style=\"text-align: right;\">\n",
       "      <th></th>\n",
       "      <th>EPIC ID</th>\n",
       "      <th>Investigation IDs</th>\n",
       "      <th>campaign</th>\n",
       "      <th>KEGS_target</th>\n",
       "    </tr>\n",
       "  </thead>\n",
       "  <tbody>\n",
       "    <tr>\n",
       "      <th>235</th>\n",
       "      <td>202059522</td>\n",
       "      <td>GO0009_LC|GO0035_LC|GO0061_LC|GO0074_LC|GO010...</td>\n",
       "      <td>0</td>\n",
       "      <td>True</td>\n",
       "    </tr>\n",
       "    <tr>\n",
       "      <th>252</th>\n",
       "      <td>202060054</td>\n",
       "      <td>GO0013_LC|GO0063_LC|GO0075_LC|GO0077_LC|GO010...</td>\n",
       "      <td>0</td>\n",
       "      <td>True</td>\n",
       "    </tr>\n",
       "    <tr>\n",
       "      <th>508</th>\n",
       "      <td>202062048</td>\n",
       "      <td>GO0035_LC|GO0103_LC|GO0106_LC</td>\n",
       "      <td>0</td>\n",
       "      <td>True</td>\n",
       "    </tr>\n",
       "    <tr>\n",
       "      <th>2667</th>\n",
       "      <td>202074356</td>\n",
       "      <td>GO0103_LC|GO0106_LC</td>\n",
       "      <td>0</td>\n",
       "      <td>True</td>\n",
       "    </tr>\n",
       "    <tr>\n",
       "      <th>2668</th>\n",
       "      <td>202074357</td>\n",
       "      <td>GO0103_LC|GO0106_LC</td>\n",
       "      <td>0</td>\n",
       "      <td>True</td>\n",
       "    </tr>\n",
       "  </tbody>\n",
       "</table>\n",
       "</div>"
      ],
      "text/plain": [
       "        EPIC ID                                  Investigation IDs campaign  \\\n",
       "235   202059522   GO0009_LC|GO0035_LC|GO0061_LC|GO0074_LC|GO010...        0   \n",
       "252   202060054   GO0013_LC|GO0063_LC|GO0075_LC|GO0077_LC|GO010...        0   \n",
       "508   202062048                      GO0035_LC|GO0103_LC|GO0106_LC        0   \n",
       "2667  202074356                                GO0103_LC|GO0106_LC        0   \n",
       "2668  202074357                                GO0103_LC|GO0106_LC        0   \n",
       "\n",
       "      KEGS_target  \n",
       "235          True  \n",
       "252          True  \n",
       "508          True  \n",
       "2667         True  \n",
       "2668         True  "
      ]
     },
     "execution_count": 4,
     "metadata": {},
     "output_type": "execute_result"
    }
   ],
   "source": [
    "KEGS_ids = ['GO14078','GO14079','GO12068','GO12116','GO10053','GO10070',\n",
    "            'GO8053','GO8070','GO6077','GO5096','GO4096','GO3048','GO1074','GO0103']\n",
    "\n",
    "search_pattern = '|'.join(KEGS_ids)\n",
    "df_GO['KEGS_target'] = df_GO['Investigation IDs'].str.contains(search_pattern)\n",
    "df_GO = df_GO[df_GO['KEGS_target']]\n",
    "df_GO.head()"
   ]
  },
  {
   "cell_type": "code",
   "execution_count": 5,
   "metadata": {
    "collapsed": true
   },
   "outputs": [],
   "source": [
    "df_GO['Is_TILE'] = df_GO['Investigation IDs'].str.contains('TILE|SQUARE_GALAXY')"
   ]
  },
  {
   "cell_type": "code",
   "execution_count": 6,
   "metadata": {
    "collapsed": false
   },
   "outputs": [
    {
     "data": {
      "text/html": [
       "<div>\n",
       "<style>\n",
       "    .dataframe thead tr:only-child th {\n",
       "        text-align: right;\n",
       "    }\n",
       "\n",
       "    .dataframe thead th {\n",
       "        text-align: left;\n",
       "    }\n",
       "\n",
       "    .dataframe tbody tr th {\n",
       "        vertical-align: top;\n",
       "    }\n",
       "</style>\n",
       "<table border=\"1\" class=\"dataframe\">\n",
       "  <thead>\n",
       "    <tr style=\"text-align: right;\">\n",
       "      <th></th>\n",
       "      <th>EPIC ID</th>\n",
       "      <th>Investigation IDs</th>\n",
       "      <th>campaign</th>\n",
       "      <th>KEGS_target</th>\n",
       "      <th>Is_TILE</th>\n",
       "    </tr>\n",
       "  </thead>\n",
       "  <tbody>\n",
       "    <tr>\n",
       "      <th>235</th>\n",
       "      <td>202059522</td>\n",
       "      <td>GO0009_LC|GO0035_LC|GO0061_LC|GO0074_LC|GO010...</td>\n",
       "      <td>0</td>\n",
       "      <td>True</td>\n",
       "      <td>False</td>\n",
       "    </tr>\n",
       "    <tr>\n",
       "      <th>252</th>\n",
       "      <td>202060054</td>\n",
       "      <td>GO0013_LC|GO0063_LC|GO0075_LC|GO0077_LC|GO010...</td>\n",
       "      <td>0</td>\n",
       "      <td>True</td>\n",
       "      <td>False</td>\n",
       "    </tr>\n",
       "    <tr>\n",
       "      <th>508</th>\n",
       "      <td>202062048</td>\n",
       "      <td>GO0035_LC|GO0103_LC|GO0106_LC</td>\n",
       "      <td>0</td>\n",
       "      <td>True</td>\n",
       "      <td>False</td>\n",
       "    </tr>\n",
       "    <tr>\n",
       "      <th>2667</th>\n",
       "      <td>202074356</td>\n",
       "      <td>GO0103_LC|GO0106_LC</td>\n",
       "      <td>0</td>\n",
       "      <td>True</td>\n",
       "      <td>False</td>\n",
       "    </tr>\n",
       "    <tr>\n",
       "      <th>2668</th>\n",
       "      <td>202074357</td>\n",
       "      <td>GO0103_LC|GO0106_LC</td>\n",
       "      <td>0</td>\n",
       "      <td>True</td>\n",
       "      <td>False</td>\n",
       "    </tr>\n",
       "  </tbody>\n",
       "</table>\n",
       "</div>"
      ],
      "text/plain": [
       "        EPIC ID                                  Investigation IDs campaign  \\\n",
       "235   202059522   GO0009_LC|GO0035_LC|GO0061_LC|GO0074_LC|GO010...        0   \n",
       "252   202060054   GO0013_LC|GO0063_LC|GO0075_LC|GO0077_LC|GO010...        0   \n",
       "508   202062048                      GO0035_LC|GO0103_LC|GO0106_LC        0   \n",
       "2667  202074356                                GO0103_LC|GO0106_LC        0   \n",
       "2668  202074357                                GO0103_LC|GO0106_LC        0   \n",
       "\n",
       "      KEGS_target  Is_TILE  \n",
       "235          True    False  \n",
       "252          True    False  \n",
       "508          True    False  \n",
       "2667         True    False  \n",
       "2668         True    False  "
      ]
     },
     "execution_count": 6,
     "metadata": {},
     "output_type": "execute_result"
    }
   ],
   "source": [
    "df_GO.head()"
   ]
  },
  {
   "cell_type": "code",
   "execution_count": 7,
   "metadata": {
    "collapsed": false
   },
   "outputs": [
    {
     "data": {
      "text/plain": [
       "False    40019\n",
       "True       108\n",
       "Name: Is_TILE, dtype: int64"
      ]
     },
     "execution_count": 7,
     "metadata": {},
     "output_type": "execute_result"
    }
   ],
   "source": [
    "df_GO.Is_TILE.value_counts()"
   ]
  },
  {
   "cell_type": "markdown",
   "metadata": {},
   "source": [
    "There are 108 instances in which a KEGS galaxy target is on a tile.  The vast majority of KEGS targets are on \"regular\", programmatically-assigned apertures.  \n",
    "Let's take a look at those 108."
   ]
  },
  {
   "cell_type": "code",
   "execution_count": 8,
   "metadata": {
    "collapsed": false
   },
   "outputs": [
    {
     "data": {
      "text/html": [
       "<div>\n",
       "<style>\n",
       "    .dataframe thead tr:only-child th {\n",
       "        text-align: right;\n",
       "    }\n",
       "\n",
       "    .dataframe thead th {\n",
       "        text-align: left;\n",
       "    }\n",
       "\n",
       "    .dataframe tbody tr th {\n",
       "        vertical-align: top;\n",
       "    }\n",
       "</style>\n",
       "<table border=\"1\" class=\"dataframe\">\n",
       "  <thead>\n",
       "    <tr style=\"text-align: right;\">\n",
       "      <th></th>\n",
       "      <th>EPIC ID</th>\n",
       "      <th>Investigation IDs</th>\n",
       "      <th>campaign</th>\n",
       "      <th>KEGS_target</th>\n",
       "      <th>Is_TILE</th>\n",
       "    </tr>\n",
       "  </thead>\n",
       "  <tbody>\n",
       "    <tr>\n",
       "      <th>361150</th>\n",
       "      <td>200183082</td>\n",
       "      <td>GO14078|NGC3412|GALAXY_TILE</td>\n",
       "      <td>14</td>\n",
       "      <td>True</td>\n",
       "      <td>True</td>\n",
       "    </tr>\n",
       "    <tr>\n",
       "      <th>361151</th>\n",
       "      <td>200183083</td>\n",
       "      <td>GO14078|NGC3412|GALAXY_TILE</td>\n",
       "      <td>14</td>\n",
       "      <td>True</td>\n",
       "      <td>True</td>\n",
       "    </tr>\n",
       "    <tr>\n",
       "      <th>361152</th>\n",
       "      <td>200183084</td>\n",
       "      <td>GO14078|NGC3412|GALAXY_TILE</td>\n",
       "      <td>14</td>\n",
       "      <td>True</td>\n",
       "      <td>True</td>\n",
       "    </tr>\n",
       "    <tr>\n",
       "      <th>361153</th>\n",
       "      <td>200183085</td>\n",
       "      <td>GO14078|NGC3412|GALAXY_TILE</td>\n",
       "      <td>14</td>\n",
       "      <td>True</td>\n",
       "      <td>True</td>\n",
       "    </tr>\n",
       "    <tr>\n",
       "      <th>361154</th>\n",
       "      <td>200183086</td>\n",
       "      <td>GO14078|NGC3412|GALAXY_TILE</td>\n",
       "      <td>14</td>\n",
       "      <td>True</td>\n",
       "      <td>True</td>\n",
       "    </tr>\n",
       "  </tbody>\n",
       "</table>\n",
       "</div>"
      ],
      "text/plain": [
       "          EPIC ID             Investigation IDs campaign  KEGS_target  Is_TILE\n",
       "361150  200183082   GO14078|NGC3412|GALAXY_TILE       14         True     True\n",
       "361151  200183083   GO14078|NGC3412|GALAXY_TILE       14         True     True\n",
       "361152  200183084   GO14078|NGC3412|GALAXY_TILE       14         True     True\n",
       "361153  200183085   GO14078|NGC3412|GALAXY_TILE       14         True     True\n",
       "361154  200183086   GO14078|NGC3412|GALAXY_TILE       14         True     True"
      ]
     },
     "execution_count": 8,
     "metadata": {},
     "output_type": "execute_result"
    }
   ],
   "source": [
    "df_GO[df_GO.Is_TILE].tail()"
   ]
  },
  {
   "cell_type": "markdown",
   "metadata": {},
   "source": [
    "Indeed, it looks like galaxies with large solid-angles on the sky, like NGC3412, were assigned custom masks.  Let's find the unique entries only.  \n",
    "We will have to perform some slightly advanced pandas methods: data cleaning, string manipulation, aggregation and filtering."
   ]
  },
  {
   "cell_type": "code",
   "execution_count": 9,
   "metadata": {
    "collapsed": true
   },
   "outputs": [],
   "source": [
    "df_GO['Investigation IDs'] = df_GO['Investigation IDs'].str.strip(' ')"
   ]
  },
  {
   "cell_type": "code",
   "execution_count": 10,
   "metadata": {
    "collapsed": false
   },
   "outputs": [
    {
     "data": {
      "text/plain": [
       "361150    [GO14078, NGC3412, GALAXY_TILE]\n",
       "361151    [GO14078, NGC3412, GALAXY_TILE]\n",
       "361152    [GO14078, NGC3412, GALAXY_TILE]\n",
       "361153    [GO14078, NGC3412, GALAXY_TILE]\n",
       "361154    [GO14078, NGC3412, GALAXY_TILE]\n",
       "Name: Investigation IDs, dtype: object"
      ]
     },
     "execution_count": 10,
     "metadata": {},
     "output_type": "execute_result"
    }
   ],
   "source": [
    "df_GO[df_GO.Is_TILE]['Investigation IDs'].str.split('|').tail()"
   ]
  },
  {
   "cell_type": "code",
   "execution_count": 11,
   "metadata": {
    "collapsed": true
   },
   "outputs": [],
   "source": [
    "df_GO['Investigator_list'] = df_GO['Investigation IDs'].str.split('|')"
   ]
  },
  {
   "cell_type": "code",
   "execution_count": 12,
   "metadata": {
    "collapsed": true
   },
   "outputs": [],
   "source": [
    "tile_targets = df_GO.Investigator_list[df_GO.Is_TILE].reset_index(drop=True)"
   ]
  },
  {
   "cell_type": "code",
   "execution_count": 13,
   "metadata": {
    "collapsed": false
   },
   "outputs": [
    {
     "data": {
      "text/plain": [
       "103    [GO14078, NGC3412, GALAXY_TILE]\n",
       "104    [GO14078, NGC3412, GALAXY_TILE]\n",
       "105    [GO14078, NGC3412, GALAXY_TILE]\n",
       "106    [GO14078, NGC3412, GALAXY_TILE]\n",
       "107    [GO14078, NGC3412, GALAXY_TILE]\n",
       "Name: Investigator_list, dtype: object"
      ]
     },
     "execution_count": 13,
     "metadata": {},
     "output_type": "execute_result"
    }
   ],
   "source": [
    "tile_targets.tail()"
   ]
  },
  {
   "cell_type": "code",
   "execution_count": 14,
   "metadata": {
    "collapsed": true
   },
   "outputs": [],
   "source": [
    "KEGS_targs_on_tiles = tile_targets.aggregate(np.concatenate)"
   ]
  },
  {
   "cell_type": "code",
   "execution_count": 15,
   "metadata": {
    "collapsed": false
   },
   "outputs": [
    {
     "data": {
      "text/plain": [
       "array(['GALAXY_TILE', 'GO14078', 'M105', 'M95', 'M96', 'NGC3384',\n",
       "       'NGC3412', 'NGC3423', 'SQUARE_GALAXY'],\n",
       "      dtype='<U13')"
      ]
     },
     "execution_count": 15,
     "metadata": {},
     "output_type": "execute_result"
    }
   ],
   "source": [
    "np.unique(KEGS_targs_on_tiles)"
   ]
  },
  {
   "cell_type": "code",
   "execution_count": 16,
   "metadata": {
    "collapsed": false
   },
   "outputs": [
    {
     "data": {
      "text/plain": [
       "{'GALAXY_TILE',\n",
       " 'M105',\n",
       " 'M95',\n",
       " 'M96',\n",
       " 'NGC3384',\n",
       " 'NGC3412',\n",
       " 'NGC3423',\n",
       " 'SQUARE_GALAXY'}"
      ]
     },
     "execution_count": 16,
     "metadata": {},
     "output_type": "execute_result"
    }
   ],
   "source": [
    "set(KEGS_targs_on_tiles) - set(KEGS_ids)"
   ]
  },
  {
   "cell_type": "markdown",
   "metadata": {},
   "source": [
    "OK so there were six named galaxies observed by KEGS that were so large on the sky as to require custom `TILE` apertures, and another `SQUARE_GALAXY` category presumably for a cluster of a few galaxies.\n",
    "These targets all originate from the [GO14078 proposal](https://keplerscience.arc.nasa.gov/data/k2-programs/GO14078.txt).\n",
    "As noted in the previous notebook, these tiles can cause over-counting of targets.  For example if you simply counted all the unique EPIC IDs associated with a proposal you would get a higher number than the number of unique targets."
   ]
  },
  {
   "cell_type": "code",
   "execution_count": 17,
   "metadata": {
    "collapsed": false
   },
   "outputs": [
    {
     "data": {
      "text/plain": [
       "108"
      ]
     },
     "execution_count": 17,
     "metadata": {},
     "output_type": "execute_result"
    }
   ],
   "source": [
    "in_GO14078 = df_GO['Investigation IDs'].str.contains('GO14078')\n",
    "in_GO14078.sum()"
   ]
  },
  {
   "cell_type": "markdown",
   "metadata": {},
   "source": [
    "Match these sources with the K2 target index."
   ]
  },
  {
   "cell_type": "code",
   "execution_count": 18,
   "metadata": {
    "collapsed": true
   },
   "outputs": [],
   "source": [
    "targ_index_path = '../../k2-target-index/k2-target-pixel-files.csv.gz'"
   ]
  },
  {
   "cell_type": "code",
   "execution_count": 19,
   "metadata": {
    "collapsed": false
   },
   "outputs": [
    {
     "name": "stdout",
     "output_type": "stream",
     "text": [
      "CPU times: user 13 s, sys: 1.1 s, total: 14.1 s\n",
      "Wall time: 13.5 s\n"
     ]
    }
   ],
   "source": [
    "%time df_targ = pd.read_csv(targ_index_path)"
   ]
  },
  {
   "cell_type": "code",
   "execution_count": 20,
   "metadata": {
    "collapsed": true
   },
   "outputs": [],
   "source": [
    "df_comb = pd.merge(df_GO[ in_GO14078 ], df_targ, how='left', left_on='EPIC ID', right_on='keplerid')"
   ]
  },
  {
   "cell_type": "code",
   "execution_count": 21,
   "metadata": {
    "collapsed": false
   },
   "outputs": [
    {
     "data": {
      "text/html": [
       "<div>\n",
       "<style>\n",
       "    .dataframe thead tr:only-child th {\n",
       "        text-align: right;\n",
       "    }\n",
       "\n",
       "    .dataframe thead th {\n",
       "        text-align: left;\n",
       "    }\n",
       "\n",
       "    .dataframe tbody tr th {\n",
       "        vertical-align: top;\n",
       "    }\n",
       "</style>\n",
       "<table border=\"1\" class=\"dataframe\">\n",
       "  <thead>\n",
       "    <tr style=\"text-align: right;\">\n",
       "      <th></th>\n",
       "      <th>EPIC ID</th>\n",
       "      <th>Investigation IDs</th>\n",
       "      <th>campaign_x</th>\n",
       "      <th>KEGS_target</th>\n",
       "      <th>Is_TILE</th>\n",
       "      <th>Investigator_list</th>\n",
       "      <th>filename</th>\n",
       "      <th>url</th>\n",
       "      <th>filesize</th>\n",
       "      <th>object</th>\n",
       "    </tr>\n",
       "  </thead>\n",
       "  <tbody>\n",
       "    <tr>\n",
       "      <th>0</th>\n",
       "      <td>200182979</td>\n",
       "      <td>GO14078|SQUARE_GALAXY</td>\n",
       "      <td>14</td>\n",
       "      <td>True</td>\n",
       "      <td>True</td>\n",
       "      <td>[GO14078, SQUARE_GALAXY]</td>\n",
       "      <td>NaN</td>\n",
       "      <td>NaN</td>\n",
       "      <td>NaN</td>\n",
       "      <td>NaN</td>\n",
       "    </tr>\n",
       "    <tr>\n",
       "      <th>1</th>\n",
       "      <td>200182980</td>\n",
       "      <td>GO14078|SQUARE_GALAXY</td>\n",
       "      <td>14</td>\n",
       "      <td>True</td>\n",
       "      <td>True</td>\n",
       "      <td>[GO14078, SQUARE_GALAXY]</td>\n",
       "      <td>NaN</td>\n",
       "      <td>NaN</td>\n",
       "      <td>NaN</td>\n",
       "      <td>NaN</td>\n",
       "    </tr>\n",
       "    <tr>\n",
       "      <th>2</th>\n",
       "      <td>200182981</td>\n",
       "      <td>GO14078|SQUARE_GALAXY</td>\n",
       "      <td>14</td>\n",
       "      <td>True</td>\n",
       "      <td>True</td>\n",
       "      <td>[GO14078, SQUARE_GALAXY]</td>\n",
       "      <td>NaN</td>\n",
       "      <td>NaN</td>\n",
       "      <td>NaN</td>\n",
       "      <td>NaN</td>\n",
       "    </tr>\n",
       "    <tr>\n",
       "      <th>3</th>\n",
       "      <td>200182982</td>\n",
       "      <td>GO14078|SQUARE_GALAXY</td>\n",
       "      <td>14</td>\n",
       "      <td>True</td>\n",
       "      <td>True</td>\n",
       "      <td>[GO14078, SQUARE_GALAXY]</td>\n",
       "      <td>NaN</td>\n",
       "      <td>NaN</td>\n",
       "      <td>NaN</td>\n",
       "      <td>NaN</td>\n",
       "    </tr>\n",
       "    <tr>\n",
       "      <th>4</th>\n",
       "      <td>200182983</td>\n",
       "      <td>GO14078|SQUARE_GALAXY</td>\n",
       "      <td>14</td>\n",
       "      <td>True</td>\n",
       "      <td>True</td>\n",
       "      <td>[GO14078, SQUARE_GALAXY]</td>\n",
       "      <td>NaN</td>\n",
       "      <td>NaN</td>\n",
       "      <td>NaN</td>\n",
       "      <td>NaN</td>\n",
       "    </tr>\n",
       "  </tbody>\n",
       "</table>\n",
       "</div>"
      ],
      "text/plain": [
       "     EPIC ID      Investigation IDs campaign_x  KEGS_target  Is_TILE  \\\n",
       "0  200182979  GO14078|SQUARE_GALAXY         14         True     True   \n",
       "1  200182980  GO14078|SQUARE_GALAXY         14         True     True   \n",
       "2  200182981  GO14078|SQUARE_GALAXY         14         True     True   \n",
       "3  200182982  GO14078|SQUARE_GALAXY         14         True     True   \n",
       "4  200182983  GO14078|SQUARE_GALAXY         14         True     True   \n",
       "\n",
       "          Investigator_list filename  url  filesize object  \n",
       "0  [GO14078, SQUARE_GALAXY]      NaN  NaN       NaN    NaN  \n",
       "1  [GO14078, SQUARE_GALAXY]      NaN  NaN       NaN    NaN  \n",
       "2  [GO14078, SQUARE_GALAXY]      NaN  NaN       NaN    NaN  \n",
       "3  [GO14078, SQUARE_GALAXY]      NaN  NaN       NaN    NaN  \n",
       "4  [GO14078, SQUARE_GALAXY]      NaN  NaN       NaN    NaN  "
      ]
     },
     "execution_count": 21,
     "metadata": {},
     "output_type": "execute_result"
    }
   ],
   "source": [
    "df_comb[df_comb.columns[0:10]].head()"
   ]
  },
  {
   "cell_type": "code",
   "execution_count": 22,
   "metadata": {
    "collapsed": false
   },
   "outputs": [
    {
     "data": {
      "text/plain": [
       "0"
      ]
     },
     "execution_count": 22,
     "metadata": {},
     "output_type": "execute_result"
    }
   ],
   "source": [
    "df_comb.filename.nunique()"
   ]
  },
  {
   "cell_type": "markdown",
   "metadata": {},
   "source": [
    "Campaign 14 is not yet in the K2-target index!"
   ]
  },
  {
   "cell_type": "markdown",
   "metadata": {},
   "source": [
    "<!--NAVIGATION-->\n",
    "< [KEGS metadata and sample overview](01.01-KEGS-sample-overview.ipynb) | [Contents](Index.ipynb) | [Fetch all the KEGS data with `wget`](01.03-wget-all-KEGS-data.ipynb) >"
   ]
  }
 ],
 "metadata": {
  "kernelspec": {
   "display_name": "Python [Root]",
   "language": "python",
   "name": "Python [Root]"
  },
  "language_info": {
   "codemirror_mode": {
    "name": "ipython",
    "version": 3
   },
   "file_extension": ".py",
   "mimetype": "text/x-python",
   "name": "python",
   "nbconvert_exporter": "python",
   "pygments_lexer": "ipython3",
   "version": "3.5.1"
  }
 },
 "nbformat": 4,
 "nbformat_minor": 2
}
