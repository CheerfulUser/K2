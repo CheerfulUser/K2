{
 "cells": [
  {
   "cell_type": "markdown",
   "metadata": {},
   "source": [
    "<!--BOOK_INFORMATION-->\n",
    "<img align=\"left\" style=\"padding-right:10px;\" src=\"figures/k2_pix_small.png\">\n",
    "*This notebook contains an excerpt instructional material from [gully](https://twitter.com/gully_) and the [K2 Guest Observer Office](https://keplerscience.arc.nasa.gov/); the content is available [on GitHub](https://github.com/gully/goldenrod).*\n"
   ]
  },
  {
   "cell_type": "markdown",
   "metadata": {},
   "source": [
    "<!--NAVIGATION-->\n",
    "< [Custom tile target apertures on galaxies](01.02-Custom-tile-apertures-on-galaxies.ipynb) | [Contents](Index.ipynb) | [Spot check some Target Pixel Files](01.04-Spot_check_TPFs.ipynb) >"
   ]
  },
  {
   "cell_type": "markdown",
   "metadata": {},
   "source": [
    "# Fetch all the KEGS data with `wget`"
   ]
  },
  {
   "cell_type": "markdown",
   "metadata": {},
   "source": [
    "Here again is the list of Guest Observer IDs.  \n",
    "\n",
    "\n",
    "| Program | Description |\n",
    "|--|--|\n",
    "|GO0103| THE KEPLER EXTRA-GALACTIC SURVEY (KEGS): SUPERNOVAE, AGN, QSOS AND BL LACS |\n",
    "|GO1074| The Kepler Extra-Galactic Survey (KEGS) |\n",
    "|GO3048| The Kepler Extra-Galactic Survey (KEGS) Transient Survey; Campaign 3 |\n",
    "|GO4096| The K2 Extra-Galactic Survey (KEGS)Transient Survey; Cycle 1 |\n",
    "|GO5096| The K2 Extra-Galactic Survey (KEGS)Transient Survey; Cycle 1 |\n",
    "|GO6077| The K2 Extra-Galactic Survey (KEGS) Transient Survey |\n",
    "|GO8070| The K2 Extragalactic Survey (KEGS) for Transients |\n",
    "|GO8053| The K2 Extragalactic Survey (KEGS) in Nearby Galaxies: Cycle 3 |\n",
    "|GO10070| The K2 Extragalactic Survey (KEGS) for Transients |\n",
    "|GO10053| The K2 Extragalactic Survey (KEGS) in Nearby Galaxies: Cycle 3|\n",
    "|GO12116| The K2 Extragalactic Survey (KEGS) for Transients |\n",
    "|GO12068| The K2 Extragalactic Survey (KEGS) in Nearby Galaxies: Cycle 4|\n",
    "|GO14079| The K2 ExtraGalactic Survey (KEGS) for Transients |\n",
    "|GO14078| The K2 Extragalactic Survey (KEGS) in Nearby Galaxies: Cycle 5|"
   ]
  },
  {
   "cell_type": "markdown",
   "metadata": {},
   "source": [
    "You can directly download `wget` scripts for all of these proposals.  I navigated to the [MAST Download Scripts Portal](https://archive.stsci.edu/pub/k2/download_scripts/target-pixel-files) and manually retrieved each wget script.  The wget scripts are just text files containing lists of wget commands."
   ]
  },
  {
   "cell_type": "code",
   "execution_count": 1,
   "metadata": {
    "collapsed": false
   },
   "outputs": [
    {
     "name": "stdout",
     "output_type": "stream",
     "text": [
      "wget -q -nH --cut-dirs=6 -r -l0 -c -N -np -R 'index*' -erobots=off http://archive.stsci.edu/pub/k2/target_pixel_files/c8/220200000/27000/ktwo220227817-c08_lpd-targ.fits.gz\r\n",
      "wget -q -nH --cut-dirs=6 -r -l0 -c -N -np -R 'index*' -erobots=off http://archive.stsci.edu/pub/k2/target_pixel_files/c8/220200000/30000/ktwo220230270-c08_lpd-targ.fits.gz\r\n"
     ]
    }
   ],
   "source": [
    "! head -n 2 /Volumes/Truro/k2/KEGS/GO8053_c8_tpf_wget.txt"
   ]
  },
  {
   "cell_type": "code",
   "execution_count": 2,
   "metadata": {
    "collapsed": false
   },
   "outputs": [
    {
     "name": "stdout",
     "output_type": "stream",
     "text": [
      "/Volumes/Truro/k2/KEGS/GO0103_c0_tpf_wget.txt\r\n",
      "/Volumes/Truro/k2/KEGS/GO10053_c10_tpf_wget.txt\r\n",
      "/Volumes/Truro/k2/KEGS/GO10070_c10_tpf_wget.txt\r\n",
      "/Volumes/Truro/k2/KEGS/GO1074_c1_tpf_wget.txt\r\n",
      "/Volumes/Truro/k2/KEGS/GO3048_c3_tpf_wget.txt\r\n",
      "/Volumes/Truro/k2/KEGS/GO4096_c4_tpf_wget.txt\r\n",
      "/Volumes/Truro/k2/KEGS/GO5096_c5_tpf_wget.txt\r\n",
      "/Volumes/Truro/k2/KEGS/GO6077_c6_tpf_wget.txt\r\n",
      "/Volumes/Truro/k2/KEGS/GO8053_c8_tpf_wget.txt\r\n",
      "/Volumes/Truro/k2/KEGS/GO8070_c8_tpf_wget.txt\r\n"
     ]
    }
   ],
   "source": [
    "! ls /Volumes/Truro/k2/KEGS/*.txt"
   ]
  },
  {
   "cell_type": "markdown",
   "metadata": {},
   "source": [
    "The number of lines is equal to the number of targets."
   ]
  },
  {
   "cell_type": "code",
   "execution_count": 3,
   "metadata": {
    "collapsed": false
   },
   "outputs": [
    {
     "name": "stdout",
     "output_type": "stream",
     "text": [
      "     106 /Volumes/Truro/k2/KEGS/GO0103_c0_tpf_wget.txt\r\n",
      "     108 /Volumes/Truro/k2/KEGS/GO10053_c10_tpf_wget.txt\r\n",
      "    9696 /Volumes/Truro/k2/KEGS/GO10070_c10_tpf_wget.txt\r\n",
      "    2985 /Volumes/Truro/k2/KEGS/GO1074_c1_tpf_wget.txt\r\n",
      "    4144 /Volumes/Truro/k2/KEGS/GO3048_c3_tpf_wget.txt\r\n",
      "     762 /Volumes/Truro/k2/KEGS/GO4096_c4_tpf_wget.txt\r\n",
      "    2802 /Volumes/Truro/k2/KEGS/GO5096_c5_tpf_wget.txt\r\n",
      "    4680 /Volumes/Truro/k2/KEGS/GO6077_c6_tpf_wget.txt\r\n",
      "      12 /Volumes/Truro/k2/KEGS/GO8053_c8_tpf_wget.txt\r\n",
      "    2649 /Volumes/Truro/k2/KEGS/GO8070_c8_tpf_wget.txt\r\n",
      "   27944 total\r\n"
     ]
    }
   ],
   "source": [
    "! wc -l /Volumes/Truro/k2/KEGS/*.txt"
   ]
  },
  {
   "cell_type": "markdown",
   "metadata": {},
   "source": [
    "Let's try an experiment-- does the script overwrite / repeat downloads?  If not we can just run everything repeatedly until it has nothing to download, yielding the resilience we want!"
   ]
  },
  {
   "cell_type": "code",
   "execution_count": 4,
   "metadata": {
    "collapsed": true
   },
   "outputs": [],
   "source": [
    "#! bash /Volumes/Truro/k2/KEGS/GO8053_c8_tpf_wget.txt"
   ]
  },
  {
   "cell_type": "markdown",
   "metadata": {},
   "source": [
    "Indeed, it works!  When you **re-execute** the wget command, it will not over-write existing TPF's.  \n",
    "However, the script needs to be executed from the target directory, not this notebook."
   ]
  },
  {
   "cell_type": "markdown",
   "metadata": {},
   "source": [
    "From that location, you can simply type:   \n",
    "```bash\n",
    "bash *.txt\n",
    "```\n",
    "\n",
    "And you will get all of the KEGS TPF's."
   ]
  },
  {
   "cell_type": "markdown",
   "metadata": {},
   "source": [
    "<!--NAVIGATION-->\n",
    "< [Custom tile target apertures on galaxies](01.02-Custom-tile-apertures-on-galaxies.ipynb) | [Contents](Index.ipynb) | [Spot check some Target Pixel Files](01.04-Spot_check_TPFs.ipynb) >"
   ]
  }
 ],
 "metadata": {
  "kernelspec": {
   "display_name": "Python [Root]",
   "language": "python",
   "name": "Python [Root]"
  },
  "language_info": {
   "codemirror_mode": {
    "name": "ipython",
    "version": 3
   },
   "file_extension": ".py",
   "mimetype": "text/x-python",
   "name": "python",
   "nbconvert_exporter": "python",
   "pygments_lexer": "ipython3",
   "version": "3.5.1"
  }
 },
 "nbformat": 4,
 "nbformat_minor": 2
}
