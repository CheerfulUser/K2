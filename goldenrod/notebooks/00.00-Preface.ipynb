{
 "cells": [
  {
   "cell_type": "markdown",
   "metadata": {},
   "source": [
    "<!--BOOK_INFORMATION-->\n",
    "<img align=\"left\" style=\"padding-right:10px;\" src=\"figures/k2_pix_small.png\">\n",
    "*This notebook contains an excerpt instructional material from [gully](https://twitter.com/gully_) and the [K2 Guest Observer Office](https://keplerscience.arc.nasa.gov/); the content is available [on GitHub](https://github.com/gully/goldenrod).*\n"
   ]
  },
  {
   "cell_type": "markdown",
   "metadata": {},
   "source": [
    "<!--NAVIGATION-->\n",
    "| [Contents](Index.ipynb) | [Metadata and preliminaries](01.00-Metadata-and-preliminaries.ipynb) >"
   ]
  },
  {
   "cell_type": "markdown",
   "metadata": {},
   "source": [
    "# Preface "
   ]
  },
  {
   "cell_type": "markdown",
   "metadata": {},
   "source": [
    "## Supernova research with Kepler/K2 🌌 🌟 \n",
    "\n",
    "This collection of Jupyter Notebooks is aimed at advancing supernova research with Kepler/K2.  Kepler and K2 have observed over 44,005 galaxies in the hope of serendipously recording the pre-outburst lightcurves of \"shock break-out\".  The mere existence and observation of such a phenomenon would be able to discriminate among theories of supernova catalysts.  \n",
    "\n",
    "The Kepler prime mission observed 400 galaxies for an average of two years, detecting 6 supernovae.  K2 observes for a shorter time---about 80 days per campaign---but has targeted many more sources: 43,605 so far.  K2 campaigns 16 and 17 will observe many more galaxies.  The table below lists the number of galaxies observed in each K2 campaign.\n",
    "\n",
    "|Campaign|$N$ targets|\n",
    "|--|--|\n",
    "|**Kepler Prime**|400|\n",
    "|0|106|\n",
    "|1|2985|\n",
    "|2||\n",
    "|3|4144|\n",
    "|4|761|\n",
    "|5|2801|\n",
    "|6|4680|\n",
    "|7||\n",
    "|8|2661|\n",
    "|9||\n",
    "|10|4902|\n",
    "|11||\n",
    "|12|2459|\n",
    "|13||\n",
    "|14|14640|\n",
    "|15|3466|\n",
    "|16|planned|\n",
    "|17|planned|\n",
    "|18|planned|\n",
    "|19|planned|\n",
    "|**Total K2 to date**| 43605|\n",
    "\n",
    "  Some campaigns looking towards the Galactic plane did not target galaxies owing to the unfavorable conditions and/or different observational priorities for the mission."
   ]
  },
  {
   "cell_type": "markdown",
   "metadata": {},
   "source": [
    "## Publications\n",
    "\n",
    "A few papers have been published on supernovae observed with Kepler:\n",
    "- [Olling et al. 2015](http://adsabs.harvard.edu/abs/2015Natur.521..332O)\n",
    "- [Garnavich et al. 2016](http://adsabs.harvard.edu/abs/2016ApJ...820...23G)\n",
    "\n",
    "A few others are in preparation:\n",
    "- Garnavich et al. in prep\n",
    "- Tucker et al. submitted\n",
    "- Rest et al. submitted\n",
    "\n",
    "Galaxies light curves offer astrophysical insights in the absence of supernovae lightcurves.  Several papers on Active Galactic Nuclei (AGN) observed with Kepler/K2 have been published.  Here is a non-exhaustive sample of Kepler/K2 AGN papers:\n",
    "\n",
    "- Mushotzky et al. 2011\n",
    "- Carini & Ryle 2012\n",
    "- Edelson et al. 2014\n",
    "- Revalski et al. 2014\n",
    "- Chen & Wang 2015\n",
    "- Kasliwal et al. 2015 \n",
    "- Shaya et al. 2015\n",
    "\n",
    "\n",
    "No papers on K2 supernovae have been published to date. The Rest et al. paper in preparation uses K2 data and will soon be available."
   ]
  },
  {
   "cell_type": "markdown",
   "metadata": {},
   "source": [
    "## How many supernovae will K2 find?\n",
    "\n",
    "We can get a coarse estimate for how many supernovae K2 will find by scaling the number observed in the Kepler Prime mission:\n",
    "\n",
    "**Kepler Prime Mission** \n",
    "\n",
    "$$6 \\textrm{ SN } / \\;400 \\textrm{ galaxies } / \\;2 \\textrm{ years }$$\n",
    "\n",
    "$$ = 0.00002 \\textrm{ SN } / \\textrm{ galaxy } / \\textrm{ day }$$\n",
    "\n",
    " \n",
    "**K2 Mission** \n",
    "\n",
    "\n",
    "$$ 0.00002 \\textrm{ SN } / \\textrm{ galaxy } / \\textrm{ day }$$\n",
    "$$ \\times $$\n",
    "$$ 80 \\textrm{ days }$$\n",
    "$$ \\times $$\n",
    "$$ 43605 \\textrm{ galaxies }$$\n",
    "\n",
    "$$ = 72 \\textrm{ supernovae }$$\n",
    "\n",
    "\n",
    "This coarse estimate assumes all supernovae have been found from the Kepler prime mission, and that different time-baseline windowing effects have negligible impact on detection efficiency.  In K2 Campaigns 3, 5, 6, 8, & 10 (so far), the KEGS team has identified at least 15 unpublished detections out of 19188 possible galaxies, about half as many as projected from the simple coarse projection from Kepler prime, but with data analysis still ongoing.  \n",
    "\n",
    "About 72 supernovae is probably in the ballpark of what we can expect--- of order many dozens or hundreds of supernovae in the K2 dataset.  This large number of supernovae with high precision, high cadence lightcurves will enable the study of the diversity of supernovae environments to identify which environments yield which outcomes."
   ]
  },
  {
   "cell_type": "markdown",
   "metadata": {},
   "source": [
    "## Ongoing projects\n",
    "\n",
    "The Kepler Extragalactic Survey (KEGS) team has led numerous K2 Guest Observer target proposals to ensure that the data is collected in the first place.  Information about the KEGS team, personnel, and up-to-date information of publications and data can be found on their website:\n",
    "\n",
    "http://www.mso.anu.edu.au/kegs/"
   ]
  },
  {
   "cell_type": "markdown",
   "metadata": {},
   "source": [
    "## Barriers to analysis of Supernovae in K2\n",
    "\n",
    "Several barriers could hamper the analysis of Supernovae in K2 lightcurves.\n",
    "\n",
    "1. Intrinsic variability of host galaxies mask weak transient signals.\n",
    "2. Kepler's large ($\\sim4''$) pixels blend host galaxy and transient PSFs.\n",
    "3. Space-craft induced motion masks transient signals with pixel-flatfield artifacts\n",
    "4. The K2 field of view is usually unobservable contemporaneously from the ground, except in the rare forward-facing campaigns.\n",
    "5. Space-craft induced motion limits difference imaging techniques.\n",
    "6. How to distinquish bona-fide extragalactic transients from ephemeral artifacts, solar system objects, etc.\n",
    "\n",
    "\n",
    "Essentially no existing Kepler-produced lightcurve or High Level Science Product has been designed both to preserve transient, long-timescale, astrophysical signals, and to mitigate spurious instrumental artifacts.  Some of these challenges have been mitigated.  Extragalactic targets can be chosen to avoid AGN, or the AGN studied in their own right.  Near-contemporaneous ground-based data still exist for many fields.  Some transients---like Type Ia Supernovae---are bright enough to outshine the host galaxy and noise sources altogether."
   ]
  },
  {
   "cell_type": "markdown",
   "metadata": {},
   "source": [
    "## Project vision\n",
    "\n",
    "We attempt to solve some of these unresolved challenges in this collection of Jupyter Notebooks.  We will first apply simple data analysis strategies, hacks, and simplifying assumptions, and then build up to more advanced inference methods to discover and characterize supernovae in the promising Kepler/K2 dataset.   \n",
    "\n",
    "The project is named after [my favorite candy shop in southern Maine](https://www.thegoldenrod.com/).\n",
    "\n",
    "## Tools\n",
    "\n",
    "We will be using [pandas](http://pandas.pydata.org/) for almost all of our analysis.  Pandas has recently become the de-facto python tool for data analysis in python.  We will also use astropy, numpy, and other python libraries.\n"
   ]
  },
  {
   "cell_type": "markdown",
   "metadata": {},
   "source": [
    "<!--NAVIGATION-->\n",
    "| [Contents](Index.ipynb) | [Metadata and preliminaries](01.00-Metadata-and-preliminaries.ipynb) >"
   ]
  }
 ],
 "metadata": {
  "kernelspec": {
   "display_name": "Python 3",
   "language": "python",
   "name": "python3"
  },
  "language_info": {
   "codemirror_mode": {
    "name": "ipython",
    "version": 3
   },
   "file_extension": ".py",
   "mimetype": "text/x-python",
   "name": "python",
   "nbconvert_exporter": "python",
   "pygments_lexer": "ipython3",
   "version": "3.6.2"
  }
 },
 "nbformat": 4,
 "nbformat_minor": 2
}
