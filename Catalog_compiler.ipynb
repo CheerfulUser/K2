{
 "cells": [
  {
   "cell_type": "code",
   "execution_count": 16,
   "metadata": {},
   "outputs": [],
   "source": [
    "import numpy as np\n",
    "import pandas as pd\n",
    "from glob import glob\n",
    "import os\n",
    "import csv\n",
    "\n",
    "def Join_searches(Path,Save):\n",
    "    files = glob(Path + '*.csv')\n",
    "    savename = Save + 'NED_' + files[0].split('_')[2] + '.csv'\n",
    "    objects = []\n",
    "    for file in files:\n",
    "        dataframe = pd.read_csv(file)\n",
    "        data = dataframe.values\n",
    "        for row in data:\n",
    "            if row[1] not in objects:\n",
    "                objects += [row[1]]\n",
    "                if os.path.isfile(savename):\n",
    "                        with open(savename, 'a') as csvfile:\n",
    "                            spamwriter = csv.writer(csvfile, delimiter=',')\n",
    "                            spamwriter.writerow(row)\n",
    "                else:\n",
    "                    with open(savename, 'w') as csvfile:\n",
    "                        spamwriter = csv.writer(csvfile, delimiter=',')\n",
    "                        spamwriter.writerow(dataframe.keys())\n",
    "                        spamwriter.writerow(row)\n",
    "            else:\n",
    "                pass\n",
    "    return 'Done NED cat for C' + files[0].split('_')[2]"
   ]
  },
  {
   "cell_type": "code",
   "execution_count": 17,
   "metadata": {},
   "outputs": [
    {
     "name": "stdout",
     "output_type": "stream",
     "text": [
      "Index(['Unnamed: 0', 'No.', 'Object Name', 'RA(deg)', 'DEC(deg)', 'Type',\n",
      "       'Velocity', 'Redshift', 'Redshift Flag', 'Magnitude and Filter',\n",
      "       'Separation', 'References', 'Notes', 'Photometry Points', 'Positions',\n",
      "       'Redshift Points', 'Diameter Points', 'Associations'],\n",
      "      dtype='object')\n"
     ]
    },
    {
     "data": {
      "text/plain": [
       "'Done NED cat for C1'"
      ]
     },
     "execution_count": 17,
     "metadata": {},
     "output_type": "execute_result"
    }
   ],
   "source": [
    "path = '/Users/ryanr/Desktop/test/1/'\n",
    "save = '/Users/ryanr/Desktop/test/'\n",
    "Join_searches(path,save)"
   ]
  }
 ],
 "metadata": {
  "kernelspec": {
   "display_name": "Python [Root]",
   "language": "python",
   "name": "Python [Root]"
  },
  "language_info": {
   "codemirror_mode": {
    "name": "ipython",
    "version": 3
   },
   "file_extension": ".py",
   "mimetype": "text/x-python",
   "name": "python",
   "nbconvert_exporter": "python",
   "pygments_lexer": "ipython3",
   "version": "3.5.5"
  }
 },
 "nbformat": 4,
 "nbformat_minor": 2
}
